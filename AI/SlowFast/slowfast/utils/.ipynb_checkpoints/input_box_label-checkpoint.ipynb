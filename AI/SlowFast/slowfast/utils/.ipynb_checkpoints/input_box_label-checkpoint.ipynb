{
 "cells": [
  {
   "cell_type": "code",
   "execution_count": 1,
   "id": "5cb0ff49-446e-490d-9d02-c88f0145858d",
   "metadata": {},
   "outputs": [],
   "source": [
    "import cv2"
   ]
  },
  {
   "cell_type": "code",
   "execution_count": 9,
   "id": "af0b0141-a44d-4cd5-9003-f2ceaf6f4b2c",
   "metadata": {},
   "outputs": [
    {
     "data": {
      "text/plain": [
       "array([[[79, 53, 55],\n",
       "        [79, 53, 55],\n",
       "        [87, 46, 49],\n",
       "        ...,\n",
       "        [26, 24, 18],\n",
       "        [26, 24, 18],\n",
       "        [26, 24, 18]],\n",
       "\n",
       "       [[77, 52, 54],\n",
       "        [74, 48, 51],\n",
       "        [86, 45, 48],\n",
       "        ...,\n",
       "        [26, 24, 18],\n",
       "        [26, 24, 18],\n",
       "        [26, 24, 18]],\n",
       "\n",
       "       [[68, 40, 45],\n",
       "        [72, 44, 48],\n",
       "        [84, 42, 48],\n",
       "        ...,\n",
       "        [26, 24, 18],\n",
       "        [26, 24, 18],\n",
       "        [26, 24, 18]],\n",
       "\n",
       "       ...,\n",
       "\n",
       "       [[11,  4,  6],\n",
       "        [11,  4,  6],\n",
       "        [11,  4,  6],\n",
       "        ...,\n",
       "        [35, 46, 45],\n",
       "        [35, 46, 45],\n",
       "        [35, 46, 45]],\n",
       "\n",
       "       [[11,  4,  6],\n",
       "        [11,  4,  6],\n",
       "        [11,  4,  6],\n",
       "        ...,\n",
       "        [35, 46, 45],\n",
       "        [35, 46, 45],\n",
       "        [35, 46, 45]],\n",
       "\n",
       "       [[11,  4,  6],\n",
       "        [11,  4,  6],\n",
       "        [11,  4,  6],\n",
       "        ...,\n",
       "        [35, 46, 45],\n",
       "        [35, 46, 45],\n",
       "        [35, 46, 45]]], dtype=uint8)"
      ]
     },
     "execution_count": 9,
     "metadata": {},
     "output_type": "execute_result"
    }
   ],
   "source": [
    "image = cv2.imread('/Users/woo/Desktop/woo/project/AbnormalBehaviorDetection_System/AI/SlowFast/datasets/train/002/00000171.png')\n"
   ]
  },
  {
   "cell_type": "code",
   "execution_count": 7,
   "id": "ab776384-44be-46d2-8196-6bdfce00166b",
   "metadata": {},
   "outputs": [
    {
     "data": {
      "text/plain": [
       "'/Users/woo/Desktop/woo/project/AbnormalBehaviorDetection_System/AI/SlowFast/slowfast/utils'"
      ]
     },
     "execution_count": 7,
     "metadata": {},
     "output_type": "execute_result"
    }
   ],
   "source": [
    "import os\n",
    "os.getcwd()"
   ]
  },
  {
   "cell_type": "code",
   "execution_count": null,
   "id": "78dd4a41-047b-4e55-bdc0-3e6d02bc7a78",
   "metadata": {},
   "outputs": [],
   "source": []
  }
 ],
 "metadata": {
  "kernelspec": {
   "display_name": "yolo",
   "language": "python",
   "name": "yolo"
  },
  "language_info": {
   "codemirror_mode": {
    "name": "ipython",
    "version": 3
   },
   "file_extension": ".py",
   "mimetype": "text/x-python",
   "name": "python",
   "nbconvert_exporter": "python",
   "pygments_lexer": "ipython3",
   "version": "3.8.18"
  }
 },
 "nbformat": 4,
 "nbformat_minor": 5
}
